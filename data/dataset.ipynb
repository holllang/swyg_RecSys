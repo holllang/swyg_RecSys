{
 "cells": [
  {
   "cell_type": "code",
   "execution_count": 10,
   "metadata": {},
   "outputs": [],
   "source": [
    "import json\n",
    "from sklearn.feature_extraction.text import TfidfVectorizer\n",
    "from sklearn.metrics.pairwise import cosine_similarity\n",
    "import re"
   ]
  },
  {
   "cell_type": "code",
   "execution_count": 2,
   "metadata": {},
   "outputs": [],
   "source": [
    "def preprocessing(text):\n",
    "    # 문제를 일으킬 수 있는 문자 제거\n",
    "    bad_chars = {\"\\u200b\": \"\", \"…\": \" ... \", \"\\ufeff\": \"\"}\n",
    "    for bad_char in bad_chars:\n",
    "        text = text.replace(bad_char, bad_chars[bad_char])\n",
    "        \n",
    "    error_chars = {\"\\u3000\": \" \", \"\\u2009\": \" \", \"\\u2002\": \" \", \"\\xa0\":\" \"}\n",
    "    for error_char in error_chars:\n",
    "        text = text.replace(error_char, error_chars[error_char])\n",
    "    \n",
    "    # 이메일 제거\n",
    "    text = re.sub(r\"[a-zA-Z0-9+-_.]+@[a-zA-Z0-9-]+\\.[a-zA-Z0-9-.]+\", \"[이메일]\", text).strip()\n",
    "    \n",
    "    # \"#문자\" 형식 어절 제거\n",
    "    text = re.sub(r\"#\\S+\", \"\", text).strip()\n",
    "    \n",
    "    # \"@문자\" 형식 어절 제거\n",
    "    text = re.sub(r\"@\\w+\", \"\", text).strip()\n",
    "    \n",
    "    # URL 제거\n",
    "    text = re.sub(r\"(http|https)?:\\/\\/\\S+\\b|www\\.(\\w+\\.)+\\S*\", \"\", text).strip()\n",
    "    text = re.sub(r\"pic\\.(\\w+\\.)+\\S*\", \"\", text).strip()\n",
    "    \n",
    "    # 뉴스 저작권 관련 텍스트 제거\n",
    "    re_patterns = [\n",
    "        r\"\\<저작권자(\\(c\\)|ⓒ|©|\\(Copyright\\)|(\\(c\\))|(\\(C\\))).+?\\>\",\n",
    "        r\"저작권자\\(c\\)|ⓒ|©|(Copyright)|(\\(c\\))|(\\(C\\))\"\n",
    "    ]\n",
    "    \n",
    "    for re_pattern in re_patterns:\n",
    "        text = re.sub(re_pattern, \"\", text).strip()\n",
    "    \n",
    "    # 뉴스 내 포함된 이미지에 대한 레이블 제거\n",
    "    text = re.sub(r\"\\(출처 ?= ?.+\\) |\\(사진 ?= ?.+\\) |\\(자료 ?= ?.+\\)| \\(자료사진\\) |사진=.+기자 \", \"\", text).strip()\n",
    "    \n",
    "    # 중복 문자 처리\n",
    "    # text = repeat_normalize(text, num_repeats=2).strip()\n",
    "    \n",
    "    # 문제를 일으킬 수 있는 구두점 치환\n",
    "    punct_mapping = {\"‘\": \"'\", \"₹\": \"e\", \"´\": \"'\", \"°\": \"\", \"€\": \"e\", \"™\": \"tm\", \"√\": \" sqrt \", \"×\": \"x\", \"²\": \"2\", \"—\": \"-\", \"–\": \"-\", \"’\": \"'\", \"_\": \"-\", \"`\": \"'\", '“': '\"', '”': '\"', '“': '\"', \"£\": \"e\", '∞': 'infinity', 'θ': 'theta', '÷': '/', 'α': 'alpha', '•': '.', 'à': 'a', '−': '-', 'β': 'beta', '∅': '', '³': '3', 'π': 'pi', }\n",
    "    for p in punct_mapping:\n",
    "        text = text.replace(p, punct_mapping[p])\n",
    "\n",
    "    reg = re.compile(r'[^\\‘ \\”\\“\\’가-힣0-9\\!\\?\\.\\,]')\n",
    "    text = reg.sub('', text)\n",
    "    \n",
    "    \n",
    "    # 연속된 공백 치환\n",
    "    text = re.sub(r\"\\s+\", \" \", text).strip()\n",
    "    \n",
    "    # 개행 문자 \"\\n\" 제거\n",
    "    text = text.replace('\\n', '')\n",
    "\n",
    "   \n",
    "    return text"
   ]
  },
  {
   "cell_type": "code",
   "execution_count": 4,
   "metadata": {},
   "outputs": [],
   "source": [
    "with open('hobby_data_50.json', encoding='utf-8') as f:\n",
    "    data = json.load(f)"
   ]
  },
  {
   "cell_type": "code",
   "execution_count": 18,
   "metadata": {},
   "outputs": [],
   "source": [
    "hobby_dict = {}\n",
    "for hobby in data:\n",
    "  sentences = ' '.join(data[hobby])\n",
    "  sentences = preprocessing(sentences).split('. ')\n",
    "  sentences.sort(key = lambda x:len(x))\n",
    "  s_len = [len(s) for s in sentences]\n",
    "  try:\n",
    "    sentences = sentences[s_len.index(10):s_len.index(200)+1]\n",
    "  except:\n",
    "    sentences = sentences[s_len.index(10):]\n",
    "  hobby_dict[hobby] = list(set(sentences))"
   ]
  },
  {
   "cell_type": "code",
   "execution_count": 21,
   "metadata": {},
   "outputs": [],
   "source": [
    "with open('hobby_preprocessed.json', 'w', encoding='utf-8') as f:\n",
    "    json.dump(hobby_dict, f, ensure_ascii=False, indent='\\t')"
   ]
  },
  {
   "cell_type": "code",
   "execution_count": 2,
   "metadata": {},
   "outputs": [],
   "source": [
    "with open('hobby_preprocessed.json', encoding='utf-8') as f:\n",
    "    data_pre = json.load(f)"
   ]
  },
  {
   "cell_type": "code",
   "execution_count": 11,
   "metadata": {},
   "outputs": [],
   "source": [
    "with open('new_dataset.json', encoding='utf-8') as f:\n",
    "    data_pre = json.load(f)"
   ]
  },
  {
   "cell_type": "code",
   "execution_count": 12,
   "metadata": {},
   "outputs": [
    {
     "name": "stdout",
     "output_type": "stream",
     "text": [
      "등산: 11535\n",
      "무에타이: 4353\n",
      "클라이밍: 1691\n",
      "수상스키: 3834\n",
      "스키: 14154\n",
      "배드민턴: 7516\n",
      "요가: 8581\n",
      "헬스: 5166\n",
      "다꾸: 6023\n",
      "유튜버되기: 4613\n",
      "풍경사진찍기: 4258\n",
      "하늘사진찍기: 2335\n",
      "카톡이모티콘만들기: 7022\n",
      "블로그쓰기: 7930\n",
      "홈카페: 7849\n",
      "연극보기: 7338\n",
      "전시회구경: 2849\n",
      "노래녹음하기: 4594\n",
      "바이닐수집: 7903\n",
      "과일청담그기: 3391\n",
      "캠핑: 1772\n",
      "둘레길걷기: 2499\n",
      "레고조립: 1789\n",
      "서핑: 2703\n",
      "홈베이킹: 1724\n",
      "k-pop 댄스: 819\n",
      "디제잉배우기: 368\n",
      "목공예: 1442\n",
      "가죽공예: 1266\n",
      "도예: 2113\n",
      "수영: 2161\n",
      "테니스: 1999\n",
      "Total: 143590\n"
     ]
    }
   ],
   "source": [
    "total = 0\n",
    "for hobby in data_pre:\n",
    "    print(f\"{hobby}: {len(data_pre[hobby])}\")\n",
    "    total += len(data_pre[hobby])\n",
    "print(f\"Total: {total}\")"
   ]
  },
  {
   "cell_type": "code",
   "execution_count": 79,
   "metadata": {},
   "outputs": [],
   "source": [
    "keywords = {\n",
    "            'E': [\"바깥 외향 활발\"],\n",
    "            'I': [\"실내 조용 혼자\"],\n",
    "            'N': [\"생각 상상 \"],\n",
    "            'S': [\"기분 느낌\"],\n",
    "            'F': [\"감성 공감 감정\"],\n",
    "            'T': [\"이성 이해\"],\n",
    "            'J': [\"계획 오래\"],\n",
    "            'P': [\"즉흥 잠깐\"]\n",
    "            }"
   ]
  },
  {
   "cell_type": "code",
   "execution_count": 29,
   "metadata": {},
   "outputs": [],
   "source": [
    "def get_score(sentences, hobby, category):\n",
    "    sentences = data_pre[hobby]\n",
    "    s_len = len(sentences)\n",
    "    compare = keywords[category]\n",
    "    sentences = compare + sentences\n",
    "    tfidf_vectorizer = TfidfVectorizer()\n",
    "    tfidf_matrix = tfidf_vectorizer.fit_transform(sentences)\n",
    "    val = cosine_similarity(tfidf_matrix[0:1],tfidf_matrix[1:]).tolist()[0]\n",
    "    val.sort(reverse=True)\n",
    "    total = s_len - val.count(0.0)\n",
    "    try:\n",
    "        return sum(val)/total\n",
    "    except:\n",
    "        return 0"
   ]
  },
  {
   "cell_type": "code",
   "execution_count": 80,
   "metadata": {},
   "outputs": [],
   "source": [
    "tfidf_scores = {}\n",
    "for hobby in data_pre:\n",
    "    sentences = data_pre[hobby]\n",
    "    scores = {}\n",
    "    for category in keywords:\n",
    "        scores[category] = get_score(sentences, hobby, category)\n",
    "    tfidf_scores[hobby] = scores\n",
    "\n",
    "data_result = {}\n",
    "mbti_count = {}\n",
    "mbti_count_2 = {}\n",
    "for hobby in tfidf_scores:\n",
    "    scores = tfidf_scores[hobby]\n",
    "    try: E = scores['E']/(scores['E']+scores['I'])\n",
    "    except: E = 0\n",
    "    try: N = scores['N']/(scores['N']+scores['S'])\n",
    "    except: N = 0\n",
    "    try: F = scores['F']/(scores['F']+scores['T'])\n",
    "    except: F = 0\n",
    "    try: J = scores['J']/(scores['J']+scores['P'])\n",
    "    except: J = 0\n",
    "    norm_scores = [E, N, F, J]\n",
    "    # norm_scores = [int(E*100), int(N*100), int(F*100), int(J*100)]\n",
    "    u_type = ''\n",
    "    if E >= 0.5: u_type += 'E'\n",
    "    else: u_type += 'I'\n",
    "    if N >= 0.5: u_type += 'N'\n",
    "    else: u_type += 'S'\n",
    "    if F >= 0.5: u_type += 'F'\n",
    "    else: u_type += 'T'\n",
    "    if J >= 0.5: u_type += 'J'\n",
    "    else: u_type += 'P'\n",
    "    if u_type not in mbti_count:\n",
    "        mbti_count[u_type] = 1\n",
    "    else:\n",
    "        mbti_count[u_type] += 1\n",
    "    for c in u_type:\n",
    "        if c not in mbti_count_2:\n",
    "            mbti_count_2[c] = 1\n",
    "        else: mbti_count_2[c] += 1\n",
    "    # print(f\"{hobby}: {u_type} {norm_scores}\")\n",
    "    # data_result[hobby] = {\"type\":u_type, \"score\":norm_scores}\n",
    "    data_result[hobby] = norm_scores"
   ]
  },
  {
   "cell_type": "code",
   "execution_count": 81,
   "metadata": {},
   "outputs": [
    {
     "name": "stdout",
     "output_type": "stream",
     "text": [
      "mbti count: 14\n",
      "[('ENFJ', 3), ('ENFP', 2), ('ENTP', 2), ('ESFJ', 3), ('ESFP', 1), ('ESTJ', 1), ('ESTP', 5), ('INFJ', 4), ('INTJ', 2), ('INTP', 1), ('ISFJ', 2), ('ISFP', 2), ('ISTJ', 2), ('ISTP', 2)]\n",
      "{'I': 15, 'S': 18, 'F': 17, 'J': 17, 'P': 15, 'E': 17, 'N': 14, 'T': 15}\n"
     ]
    }
   ],
   "source": [
    "sorted_dict = sorted(mbti_count.items())\n",
    "print(f\"mbti count: {len(sorted_dict)}\")\n",
    "print(sorted_dict)\n",
    "print(mbti_count_2)"
   ]
  },
  {
   "cell_type": "code",
   "execution_count": null,
   "metadata": {},
   "outputs": [],
   "source": [
    "# entj infp 실종"
   ]
  },
  {
   "cell_type": "code",
   "execution_count": 134,
   "metadata": {},
   "outputs": [],
   "source": [
    "data_result['mbtis'] = sorted_dict\n",
    "data_result['category'] = mbti_count_2"
   ]
  },
  {
   "cell_type": "code",
   "execution_count": 9,
   "metadata": {},
   "outputs": [],
   "source": [
    "with open('data_result_float.json', 'w', encoding='utf-8') as f:\n",
    "    json.dump(data_result, f, ensure_ascii=False, indent='\\t')"
   ]
  },
  {
   "cell_type": "code",
   "execution_count": 2,
   "metadata": {},
   "outputs": [],
   "source": [
    "with open('data_result.json', encoding='utf-8') as f:\n",
    "    data_result = json.load(f)"
   ]
  },
  {
   "cell_type": "code",
   "execution_count": 3,
   "metadata": {},
   "outputs": [
    {
     "data": {
      "text/plain": [
       "{'등산': {'type': 'ISFJ', 'score': [46, 0, 100, 50]},\n",
       " '무에타이': {'type': 'INFP', 'score': [0, 100, 100, 48]},\n",
       " '클라이밍': {'type': 'ISFJ', 'score': [46, 37, 100, 51]},\n",
       " '수상스키': {'type': 'INFJ', 'score': [46, 68, 100, 54]},\n",
       " '스키': {'type': 'ESFP', 'score': [55, 0, 60, 49]},\n",
       " '배드민턴': {'type': 'ESTP', 'score': [57, 0, 38, 46]},\n",
       " '요가': {'type': 'ISTP', 'score': [46, 0, 44, 47]},\n",
       " '헬스': {'type': 'ISFJ', 'score': [42, 0, 54, 50]},\n",
       " '다꾸': {'type': 'ISTJ', 'score': [0, 49, 30, 59]},\n",
       " '유튜버되기': {'type': 'ESTP', 'score': [59, 35, 44, 41]},\n",
       " '풍경사진찍기': {'type': 'INTP', 'score': [47, 59, 31, 46]},\n",
       " '하늘사진찍기': {'type': 'ESFJ', 'score': [52, 0, 100, 62]},\n",
       " '카톡이모티콘만들기': {'type': 'INTP', 'score': [0, 77, 45, 47]},\n",
       " '블로그쓰기': {'type': 'INTJ', 'score': [49, 56, 43, 56]},\n",
       " '홈카페': {'type': 'ESFP', 'score': [55, 0, 100, 40]},\n",
       " '연극보기': {'type': 'INTJ', 'score': [0, 53, 42, 51]},\n",
       " '전시회구경': {'type': 'ENTP', 'score': [50, 50, 35, 43]},\n",
       " '노래녹음하기': {'type': 'ESFJ', 'score': [58, 0, 100, 56]},\n",
       " '바이닐수집': {'type': 'INTP', 'score': [0, 50, 36, 49]},\n",
       " '과일청담그기': {'type': 'ESFP', 'score': [51, 0, 100, 46]},\n",
       " 'mbtis': [['ENTP', 1],\n",
       "  ['ESFJ', 2],\n",
       "  ['ESFP', 3],\n",
       "  ['ESTP', 2],\n",
       "  ['INFJ', 1],\n",
       "  ['INFP', 1],\n",
       "  ['INTJ', 2],\n",
       "  ['INTP', 3],\n",
       "  ['ISFJ', 3],\n",
       "  ['ISTJ', 1],\n",
       "  ['ISTP', 1]],\n",
       " 'category': {'I': 12,\n",
       "  'S': 12,\n",
       "  'F': 10,\n",
       "  'J': 9,\n",
       "  'N': 8,\n",
       "  'P': 11,\n",
       "  'E': 8,\n",
       "  'T': 10}}"
      ]
     },
     "execution_count": 3,
     "metadata": {},
     "output_type": "execute_result"
    }
   ],
   "source": [
    "data_result"
   ]
  },
  {
   "cell_type": "code",
   "execution_count": 7,
   "metadata": {},
   "outputs": [],
   "source": [
    "hobby_list = [\"등산\", \"무에타이\", \"클라이밍\", \"수상스키\", \"스키\", \n",
    "            \"배드민턴\", \"요가\", \"헬스\", \"다꾸\", \"유튜버되기\", \"풍경사진찍기\",\n",
    "            \"하늘사진찍기\", \"카톡이모티콘만들기\", \"블로그쓰기\", \"홈카페\",\n",
    "            \"연극보기\", \"전시회구경\", \"노래녹음하기\", \"바이닐수집\", \"과일청담그기\"]"
   ]
  },
  {
   "cell_type": "code",
   "execution_count": 27,
   "metadata": {},
   "outputs": [],
   "source": [
    "dataset = {}"
   ]
  },
  {
   "cell_type": "code",
   "execution_count": 28,
   "metadata": {},
   "outputs": [],
   "source": [
    "for idx, hobby in enumerate(data_result):\n",
    "    if hobby in hobby_list:\n",
    "        # dataset[idx] = {'hobby':hobby, 'score':data_result[hobby]['score']}\n",
    "        dataset[hobby] = data_result[hobby]['score']"
   ]
  },
  {
   "cell_type": "code",
   "execution_count": 29,
   "metadata": {},
   "outputs": [
    {
     "data": {
      "text/plain": [
       "{'등산': [46, 0, 100, 50],\n",
       " '무에타이': [0, 100, 100, 48],\n",
       " '클라이밍': [46, 37, 100, 51],\n",
       " '수상스키': [46, 68, 100, 54],\n",
       " '스키': [55, 0, 60, 49],\n",
       " '배드민턴': [57, 0, 38, 46],\n",
       " '요가': [46, 0, 44, 47],\n",
       " '헬스': [42, 0, 54, 50],\n",
       " '다꾸': [0, 49, 30, 59],\n",
       " '유튜버되기': [59, 35, 44, 41],\n",
       " '풍경사진찍기': [47, 59, 31, 46],\n",
       " '하늘사진찍기': [52, 0, 100, 62],\n",
       " '카톡이모티콘만들기': [0, 77, 45, 47],\n",
       " '블로그쓰기': [49, 56, 43, 56],\n",
       " '홈카페': [55, 0, 100, 40],\n",
       " '연극보기': [0, 53, 42, 51],\n",
       " '전시회구경': [50, 50, 35, 43],\n",
       " '노래녹음하기': [58, 0, 100, 56],\n",
       " '바이닐수집': [0, 50, 36, 49],\n",
       " '과일청담그기': [51, 0, 100, 46]}"
      ]
     },
     "execution_count": 29,
     "metadata": {},
     "output_type": "execute_result"
    }
   ],
   "source": [
    "dataset"
   ]
  },
  {
   "cell_type": "code",
   "execution_count": 33,
   "metadata": {},
   "outputs": [],
   "source": [
    "with open('dataset.json', 'w', encoding='utf-8') as f:\n",
    "    json.dump(dataset, f, ensure_ascii=False)"
   ]
  },
  {
   "cell_type": "code",
   "execution_count": 5,
   "metadata": {},
   "outputs": [],
   "source": [
    "hobby_enum = {}"
   ]
  },
  {
   "cell_type": "code",
   "execution_count": 8,
   "metadata": {},
   "outputs": [],
   "source": [
    "for idx, hobby in enumerate(data_result):\n",
    "    if hobby in hobby_list:\n",
    "        hobby_enum[idx] = hobby"
   ]
  },
  {
   "cell_type": "code",
   "execution_count": 10,
   "metadata": {},
   "outputs": [],
   "source": [
    "base_info = {\n",
    "    \"hobby_enum\":hobby_enum,\n",
    "    \"list\":[101,101,101,101]\n",
    "}"
   ]
  },
  {
   "cell_type": "code",
   "execution_count": 12,
   "metadata": {},
   "outputs": [],
   "source": [
    "with open('base_info.json', 'w', encoding='utf-8') as f:\n",
    "    json.dump(base_info, f, indent='\\t', ensure_ascii=False)"
   ]
  }
 ],
 "metadata": {
  "kernelspec": {
   "display_name": "Python 3",
   "language": "python",
   "name": "python3"
  },
  "language_info": {
   "codemirror_mode": {
    "name": "ipython",
    "version": 3
   },
   "file_extension": ".py",
   "mimetype": "text/x-python",
   "name": "python",
   "nbconvert_exporter": "python",
   "pygments_lexer": "ipython3",
   "version": "3.8.0"
  },
  "orig_nbformat": 4,
  "vscode": {
   "interpreter": {
    "hash": "67ef6347acf0e6e9c2b9e1bebe223bc652e9dbc98996328a0c0f06627da52407"
   }
  }
 },
 "nbformat": 4,
 "nbformat_minor": 2
}
