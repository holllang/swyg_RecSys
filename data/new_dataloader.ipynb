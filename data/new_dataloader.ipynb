{
 "cells": [
  {
   "cell_type": "code",
   "execution_count": 4,
   "metadata": {},
   "outputs": [],
   "source": [
    "import json"
   ]
  },
  {
   "cell_type": "code",
   "execution_count": 19,
   "metadata": {},
   "outputs": [],
   "source": [
    "with open('data_result.json', encoding='utf-8') as f:\n",
    "    data_result = json.load(f)"
   ]
  },
  {
   "cell_type": "code",
   "execution_count": 20,
   "metadata": {},
   "outputs": [
    {
     "data": {
      "text/plain": [
       "{'등산': [0, 9, 19, 9],\n",
       " '무에타이': [0, 9, 19, 8],\n",
       " '클라이밍': [10, 9, 19, 9],\n",
       " '수상스키': [10, 10, 19, 10],\n",
       " '스키': [11, 9, 12, 9],\n",
       " '배드민턴': [14, 9, 7, 8],\n",
       " '요가': [9, 9, 9, 9],\n",
       " '헬스': [8, 9, 11, 9],\n",
       " '다이어리 꾸미기': [0, 9, 6, 11],\n",
       " '유튜버 시작하기': [12, 8, 9, 7],\n",
       " '풍경사진 찍기': [10, 9, 6, 8],\n",
       " '하늘사진 찍기': [11, 8, 19, 11],\n",
       " '카톡 이모티콘 만들기': [0, 10, 9, 8],\n",
       " '블로그 쓰기': [10, 8, 8, 10],\n",
       " '홈카페하기': [11, 10, 19, 7],\n",
       " '연극 보러가기': [0, 9, 8, 9],\n",
       " '전시회 보러가기': [10, 9, 7, 8],\n",
       " '노래 녹음하기': [12, 9, 19, 10],\n",
       " 'LP판 수정하기': [0, 9, 7, 9],\n",
       " '과일청 담그기': [11, 10, 19, 8],\n",
       " '캠핑': [9, 10, 8, 9],\n",
       " '둘레길 걷기': [9, 9, 19, 10],\n",
       " '레고 조립': [0, 10, 11, 11],\n",
       " '서핑': [11, 8, 0, 8],\n",
       " '베이킹': [12, 8, 19, 9],\n",
       " 'K-POP 댄스': [0, 9, 19, 13],\n",
       " '디제잉': [0, 11, 0, 13],\n",
       " '목공예': [6, 9, 19, 9],\n",
       " '가죽공예': [0, 10, 19, 19],\n",
       " '도예': [11, 13, 19, 10],\n",
       " '수영': [10, 10, 7, 9],\n",
       " '테니스': [0, 7, 0, 9],\n",
       " '스노우보드': [0, 10, 0, 6]}"
      ]
     },
     "execution_count": 20,
     "metadata": {},
     "output_type": "execute_result"
    }
   ],
   "source": [
    "data_result"
   ]
  },
  {
   "cell_type": "code",
   "execution_count": 21,
   "metadata": {},
   "outputs": [],
   "source": [
    "new_data = {}"
   ]
  },
  {
   "cell_type": "code",
   "execution_count": 22,
   "metadata": {},
   "outputs": [],
   "source": [
    "for hobby in data_result:\n",
    "    score = data_result[hobby]\n",
    "    new_score = []\n",
    "    # for s in score:\n",
    "    #     if s < 10:\n",
    "    #         new_score.append(0)\n",
    "    #     else:\n",
    "    #         new_score.append(1)\n",
    "    for idx, val in enumerate(score):\n",
    "        val = int(val / 19 * 4)\n",
    "        if val == 4: val = 3\n",
    "        score[idx] = val\n",
    "        \n",
    "    new_score += score\n",
    "    new_data[hobby] = new_score"
   ]
  },
  {
   "cell_type": "code",
   "execution_count": 23,
   "metadata": {},
   "outputs": [
    {
     "data": {
      "text/plain": [
       "{'등산': [0, 1, 3, 1],\n",
       " '무에타이': [0, 1, 3, 1],\n",
       " '클라이밍': [2, 1, 3, 1],\n",
       " '수상스키': [2, 2, 3, 2],\n",
       " '스키': [2, 1, 2, 1],\n",
       " '배드민턴': [2, 1, 1, 1],\n",
       " '요가': [1, 1, 1, 1],\n",
       " '헬스': [1, 1, 2, 1],\n",
       " '다이어리 꾸미기': [0, 1, 1, 2],\n",
       " '유튜버 시작하기': [2, 1, 1, 1],\n",
       " '풍경사진 찍기': [2, 1, 1, 1],\n",
       " '하늘사진 찍기': [2, 1, 3, 2],\n",
       " '카톡 이모티콘 만들기': [0, 2, 1, 1],\n",
       " '블로그 쓰기': [2, 1, 1, 2],\n",
       " '홈카페하기': [2, 2, 3, 1],\n",
       " '연극 보러가기': [0, 1, 1, 1],\n",
       " '전시회 보러가기': [2, 1, 1, 1],\n",
       " '노래 녹음하기': [2, 1, 3, 2],\n",
       " 'LP판 수정하기': [0, 1, 1, 1],\n",
       " '과일청 담그기': [2, 2, 3, 1],\n",
       " '캠핑': [1, 2, 1, 1],\n",
       " '둘레길 걷기': [1, 1, 3, 2],\n",
       " '레고 조립': [0, 2, 2, 2],\n",
       " '서핑': [2, 1, 0, 1],\n",
       " '베이킹': [2, 1, 3, 1],\n",
       " 'K-POP 댄스': [0, 1, 3, 2],\n",
       " '디제잉': [0, 2, 0, 2],\n",
       " '목공예': [1, 1, 3, 1],\n",
       " '가죽공예': [0, 2, 3, 3],\n",
       " '도예': [2, 2, 3, 2],\n",
       " '수영': [2, 2, 1, 1],\n",
       " '테니스': [0, 1, 0, 1],\n",
       " '스노우보드': [0, 2, 0, 1]}"
      ]
     },
     "execution_count": 23,
     "metadata": {},
     "output_type": "execute_result"
    }
   ],
   "source": [
    "new_data"
   ]
  },
  {
   "cell_type": "code",
   "execution_count": 32,
   "metadata": {},
   "outputs": [],
   "source": [
    "with open('dataset.json', 'w', encoding='utf-8') as f:\n",
    "    json.dump(new_data, f, ensure_ascii=False)"
   ]
  },
  {
   "cell_type": "code",
   "execution_count": 24,
   "metadata": {},
   "outputs": [],
   "source": [
    "sorted_dict = sorted(new_data.items(), key=lambda x:x[1])"
   ]
  },
  {
   "cell_type": "code",
   "execution_count": 25,
   "metadata": {},
   "outputs": [
    {
     "data": {
      "text/plain": [
       "[('테니스', [0, 1, 0, 1]),\n",
       " ('연극 보러가기', [0, 1, 1, 1]),\n",
       " ('LP판 수정하기', [0, 1, 1, 1]),\n",
       " ('다이어리 꾸미기', [0, 1, 1, 2]),\n",
       " ('등산', [0, 1, 3, 1]),\n",
       " ('무에타이', [0, 1, 3, 1]),\n",
       " ('K-POP 댄스', [0, 1, 3, 2]),\n",
       " ('스노우보드', [0, 2, 0, 1]),\n",
       " ('디제잉', [0, 2, 0, 2]),\n",
       " ('카톡 이모티콘 만들기', [0, 2, 1, 1]),\n",
       " ('레고 조립', [0, 2, 2, 2]),\n",
       " ('가죽공예', [0, 2, 3, 3]),\n",
       " ('요가', [1, 1, 1, 1]),\n",
       " ('헬스', [1, 1, 2, 1]),\n",
       " ('목공예', [1, 1, 3, 1]),\n",
       " ('둘레길 걷기', [1, 1, 3, 2]),\n",
       " ('캠핑', [1, 2, 1, 1]),\n",
       " ('서핑', [2, 1, 0, 1]),\n",
       " ('배드민턴', [2, 1, 1, 1]),\n",
       " ('유튜버 시작하기', [2, 1, 1, 1]),\n",
       " ('풍경사진 찍기', [2, 1, 1, 1]),\n",
       " ('전시회 보러가기', [2, 1, 1, 1]),\n",
       " ('블로그 쓰기', [2, 1, 1, 2]),\n",
       " ('스키', [2, 1, 2, 1]),\n",
       " ('클라이밍', [2, 1, 3, 1]),\n",
       " ('베이킹', [2, 1, 3, 1]),\n",
       " ('하늘사진 찍기', [2, 1, 3, 2]),\n",
       " ('노래 녹음하기', [2, 1, 3, 2]),\n",
       " ('수영', [2, 2, 1, 1]),\n",
       " ('홈카페하기', [2, 2, 3, 1]),\n",
       " ('과일청 담그기', [2, 2, 3, 1]),\n",
       " ('수상스키', [2, 2, 3, 2]),\n",
       " ('도예', [2, 2, 3, 2])]"
      ]
     },
     "execution_count": 25,
     "metadata": {},
     "output_type": "execute_result"
    }
   ],
   "source": [
    "sorted_dict"
   ]
  },
  {
   "cell_type": "code",
   "execution_count": 26,
   "metadata": {},
   "outputs": [],
   "source": [
    "list_to_dict = {}\n",
    "for [hobby, score] in sorted_dict:\n",
    "    list_to_dict[hobby] = score"
   ]
  },
  {
   "cell_type": "code",
   "execution_count": 27,
   "metadata": {},
   "outputs": [
    {
     "data": {
      "text/plain": [
       "{'테니스': [0, 1, 0, 1],\n",
       " '연극 보러가기': [0, 1, 1, 1],\n",
       " 'LP판 수정하기': [0, 1, 1, 1],\n",
       " '다이어리 꾸미기': [0, 1, 1, 2],\n",
       " '등산': [0, 1, 3, 1],\n",
       " '무에타이': [0, 1, 3, 1],\n",
       " 'K-POP 댄스': [0, 1, 3, 2],\n",
       " '스노우보드': [0, 2, 0, 1],\n",
       " '디제잉': [0, 2, 0, 2],\n",
       " '카톡 이모티콘 만들기': [0, 2, 1, 1],\n",
       " '레고 조립': [0, 2, 2, 2],\n",
       " '가죽공예': [0, 2, 3, 3],\n",
       " '요가': [1, 1, 1, 1],\n",
       " '헬스': [1, 1, 2, 1],\n",
       " '목공예': [1, 1, 3, 1],\n",
       " '둘레길 걷기': [1, 1, 3, 2],\n",
       " '캠핑': [1, 2, 1, 1],\n",
       " '서핑': [2, 1, 0, 1],\n",
       " '배드민턴': [2, 1, 1, 1],\n",
       " '유튜버 시작하기': [2, 1, 1, 1],\n",
       " '풍경사진 찍기': [2, 1, 1, 1],\n",
       " '전시회 보러가기': [2, 1, 1, 1],\n",
       " '블로그 쓰기': [2, 1, 1, 2],\n",
       " '스키': [2, 1, 2, 1],\n",
       " '클라이밍': [2, 1, 3, 1],\n",
       " '베이킹': [2, 1, 3, 1],\n",
       " '하늘사진 찍기': [2, 1, 3, 2],\n",
       " '노래 녹음하기': [2, 1, 3, 2],\n",
       " '수영': [2, 2, 1, 1],\n",
       " '홈카페하기': [2, 2, 3, 1],\n",
       " '과일청 담그기': [2, 2, 3, 1],\n",
       " '수상스키': [2, 2, 3, 2],\n",
       " '도예': [2, 2, 3, 2]}"
      ]
     },
     "execution_count": 27,
     "metadata": {},
     "output_type": "execute_result"
    }
   ],
   "source": [
    "list_to_dict"
   ]
  },
  {
   "cell_type": "code",
   "execution_count": 33,
   "metadata": {},
   "outputs": [],
   "source": [
    "with open('dataset.json', 'w', encoding='utf-8') as f:\n",
    "    json.dump(list_to_dict, f, ensure_ascii=False)"
   ]
  },
  {
   "cell_type": "code",
   "execution_count": 28,
   "metadata": {},
   "outputs": [],
   "source": [
    "base_info = {}\n",
    "hobby_enum = {}\n",
    "for idx, hobby in enumerate(list_to_dict):\n",
    "    hobby_enum[str(idx)] = hobby"
   ]
  },
  {
   "cell_type": "code",
   "execution_count": 29,
   "metadata": {},
   "outputs": [],
   "source": [
    "base_info[\"hobby_enum\"] = hobby_enum\n",
    "base_info[\"list\"] = [4,4,4,4]"
   ]
  },
  {
   "cell_type": "code",
   "execution_count": 30,
   "metadata": {},
   "outputs": [
    {
     "data": {
      "text/plain": [
       "{'hobby_enum': {'0': '테니스',\n",
       "  '1': '연극 보러가기',\n",
       "  '2': 'LP판 수정하기',\n",
       "  '3': '다이어리 꾸미기',\n",
       "  '4': '등산',\n",
       "  '5': '무에타이',\n",
       "  '6': 'K-POP 댄스',\n",
       "  '7': '스노우보드',\n",
       "  '8': '디제잉',\n",
       "  '9': '카톡 이모티콘 만들기',\n",
       "  '10': '레고 조립',\n",
       "  '11': '가죽공예',\n",
       "  '12': '요가',\n",
       "  '13': '헬스',\n",
       "  '14': '목공예',\n",
       "  '15': '둘레길 걷기',\n",
       "  '16': '캠핑',\n",
       "  '17': '서핑',\n",
       "  '18': '배드민턴',\n",
       "  '19': '유튜버 시작하기',\n",
       "  '20': '풍경사진 찍기',\n",
       "  '21': '전시회 보러가기',\n",
       "  '22': '블로그 쓰기',\n",
       "  '23': '스키',\n",
       "  '24': '클라이밍',\n",
       "  '25': '베이킹',\n",
       "  '26': '하늘사진 찍기',\n",
       "  '27': '노래 녹음하기',\n",
       "  '28': '수영',\n",
       "  '29': '홈카페하기',\n",
       "  '30': '과일청 담그기',\n",
       "  '31': '수상스키',\n",
       "  '32': '도예'},\n",
       " 'list': [4, 4, 4, 4]}"
      ]
     },
     "execution_count": 30,
     "metadata": {},
     "output_type": "execute_result"
    }
   ],
   "source": [
    "base_info"
   ]
  },
  {
   "cell_type": "code",
   "execution_count": 31,
   "metadata": {},
   "outputs": [],
   "source": [
    "with open('base_info.json', 'w', encoding='utf-8') as f:\n",
    "    json.dump(base_info, f, ensure_ascii=False, indent='\\t')"
   ]
  }
 ],
 "metadata": {
  "kernelspec": {
   "display_name": "Python 3",
   "language": "python",
   "name": "python3"
  },
  "language_info": {
   "codemirror_mode": {
    "name": "ipython",
    "version": 3
   },
   "file_extension": ".py",
   "mimetype": "text/x-python",
   "name": "python",
   "nbconvert_exporter": "python",
   "pygments_lexer": "ipython3",
   "version": "3.9.6"
  },
  "orig_nbformat": 4,
  "vscode": {
   "interpreter": {
    "hash": "31f2aee4e71d21fbe5cf8b01ff0e069b9275f58929596ceb00d14d90e3e16cd6"
   }
  }
 },
 "nbformat": 4,
 "nbformat_minor": 2
}
