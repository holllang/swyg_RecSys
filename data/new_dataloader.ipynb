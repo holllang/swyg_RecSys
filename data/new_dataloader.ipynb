{
 "cells": [
  {
   "cell_type": "code",
   "execution_count": 1,
   "metadata": {},
   "outputs": [],
   "source": [
    "import json"
   ]
  },
  {
   "cell_type": "code",
   "execution_count": 2,
   "metadata": {},
   "outputs": [],
   "source": [
    "with open('data_result2.json', encoding='utf-8') as f:\n",
    "    data_result = json.load(f)"
   ]
  },
  {
   "cell_type": "code",
   "execution_count": 3,
   "metadata": {},
   "outputs": [
    {
     "data": {
      "text/plain": [
       "{'등산': [0, 9, 19, 9],\n",
       " '무에타이': [0, 9, 19, 8],\n",
       " '클라이밍': [10, 9, 19, 9],\n",
       " '수상스키': [10, 10, 19, 10],\n",
       " '스키': [11, 9, 12, 9],\n",
       " '배드민턴': [14, 9, 7, 8],\n",
       " '요가': [9, 9, 9, 9],\n",
       " '헬스': [8, 9, 11, 9],\n",
       " '다꾸': [0, 9, 6, 11],\n",
       " '유튜버되기': [12, 8, 9, 7],\n",
       " '풍경사진찍기': [10, 9, 6, 8],\n",
       " '하늘사진찍기': [11, 8, 19, 11],\n",
       " '카톡이모티콘만들기': [0, 10, 9, 8],\n",
       " '블로그쓰기': [10, 8, 8, 10],\n",
       " '홈카페': [11, 10, 19, 7],\n",
       " '연극보기': [0, 9, 8, 9],\n",
       " '전시회구경': [10, 9, 7, 8],\n",
       " '노래녹음하기': [12, 9, 19, 10],\n",
       " '바이닐수집': [0, 9, 7, 9],\n",
       " '과일청담그기': [11, 10, 19, 8],\n",
       " '캠핑': [9, 10, 8, 9],\n",
       " '둘레길걷기': [9, 9, 19, 10],\n",
       " '레고조립': [0, 10, 11, 11],\n",
       " '서핑': [11, 8, 0, 8],\n",
       " '홈베이킹': [12, 8, 19, 9],\n",
       " 'k-pop 댄스': [0, 9, 19, 13],\n",
       " '디제잉배우기': [0, 11, 0, 13],\n",
       " '목공예': [6, 9, 19, 9],\n",
       " '가죽공예': [0, 10, 19, 19],\n",
       " '도예': [11, 13, 19, 10],\n",
       " '수영': [10, 10, 7, 9],\n",
       " '테니스': [0, 7, 0, 9]}"
      ]
     },
     "execution_count": 3,
     "metadata": {},
     "output_type": "execute_result"
    }
   ],
   "source": [
    "data_result"
   ]
  },
  {
   "cell_type": "code",
   "execution_count": 4,
   "metadata": {},
   "outputs": [],
   "source": [
    "new_data = {}"
   ]
  },
  {
   "cell_type": "code",
   "execution_count": 5,
   "metadata": {},
   "outputs": [],
   "source": [
    "for hobby in data_result:\n",
    "    score = data_result[hobby]\n",
    "    new_score = []\n",
    "    for s in score:\n",
    "        if s < 10:\n",
    "            new_score.append(0)\n",
    "        else:\n",
    "            new_score.append(1)\n",
    "    new_score += score\n",
    "    new_data[hobby] = new_score"
   ]
  },
  {
   "cell_type": "code",
   "execution_count": 7,
   "metadata": {},
   "outputs": [
    {
     "data": {
      "text/plain": [
       "{'등산': [0, 0, 1, 0, 0, 9, 19, 9],\n",
       " '무에타이': [0, 0, 1, 0, 0, 9, 19, 8],\n",
       " '클라이밍': [1, 0, 1, 0, 10, 9, 19, 9],\n",
       " '수상스키': [1, 1, 1, 1, 10, 10, 19, 10],\n",
       " '스키': [1, 0, 1, 0, 11, 9, 12, 9],\n",
       " '배드민턴': [1, 0, 0, 0, 14, 9, 7, 8],\n",
       " '요가': [0, 0, 0, 0, 9, 9, 9, 9],\n",
       " '헬스': [0, 0, 1, 0, 8, 9, 11, 9],\n",
       " '다꾸': [0, 0, 0, 1, 0, 9, 6, 11],\n",
       " '유튜버되기': [1, 0, 0, 0, 12, 8, 9, 7],\n",
       " '풍경사진찍기': [1, 0, 0, 0, 10, 9, 6, 8],\n",
       " '하늘사진찍기': [1, 0, 1, 1, 11, 8, 19, 11],\n",
       " '카톡이모티콘만들기': [0, 1, 0, 0, 0, 10, 9, 8],\n",
       " '블로그쓰기': [1, 0, 0, 1, 10, 8, 8, 10],\n",
       " '홈카페': [1, 1, 1, 0, 11, 10, 19, 7],\n",
       " '연극보기': [0, 0, 0, 0, 0, 9, 8, 9],\n",
       " '전시회구경': [1, 0, 0, 0, 10, 9, 7, 8],\n",
       " '노래녹음하기': [1, 0, 1, 1, 12, 9, 19, 10],\n",
       " '바이닐수집': [0, 0, 0, 0, 0, 9, 7, 9],\n",
       " '과일청담그기': [1, 1, 1, 0, 11, 10, 19, 8],\n",
       " '캠핑': [0, 1, 0, 0, 9, 10, 8, 9],\n",
       " '둘레길걷기': [0, 0, 1, 1, 9, 9, 19, 10],\n",
       " '레고조립': [0, 1, 1, 1, 0, 10, 11, 11],\n",
       " '서핑': [1, 0, 0, 0, 11, 8, 0, 8],\n",
       " '홈베이킹': [1, 0, 1, 0, 12, 8, 19, 9],\n",
       " 'k-pop 댄스': [0, 0, 1, 1, 0, 9, 19, 13],\n",
       " '디제잉배우기': [0, 1, 0, 1, 0, 11, 0, 13],\n",
       " '목공예': [0, 0, 1, 0, 6, 9, 19, 9],\n",
       " '가죽공예': [0, 1, 1, 1, 0, 10, 19, 19],\n",
       " '도예': [1, 1, 1, 1, 11, 13, 19, 10],\n",
       " '수영': [1, 1, 0, 0, 10, 10, 7, 9],\n",
       " '테니스': [0, 0, 0, 0, 0, 7, 0, 9]}"
      ]
     },
     "execution_count": 7,
     "metadata": {},
     "output_type": "execute_result"
    }
   ],
   "source": [
    "new_data"
   ]
  }
 ],
 "metadata": {
  "kernelspec": {
   "display_name": "Python 3",
   "language": "python",
   "name": "python3"
  },
  "language_info": {
   "codemirror_mode": {
    "name": "ipython",
    "version": 3
   },
   "file_extension": ".py",
   "mimetype": "text/x-python",
   "name": "python",
   "nbconvert_exporter": "python",
   "pygments_lexer": "ipython3",
   "version": "3.9.6"
  },
  "orig_nbformat": 4,
  "vscode": {
   "interpreter": {
    "hash": "31f2aee4e71d21fbe5cf8b01ff0e069b9275f58929596ceb00d14d90e3e16cd6"
   }
  }
 },
 "nbformat": 4,
 "nbformat_minor": 2
}
