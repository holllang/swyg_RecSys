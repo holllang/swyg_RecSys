{
  "nbformat": 4,
  "nbformat_minor": 0,
  "metadata": {
    "colab": {
      "provenance": []
    },
    "kernelspec": {
      "name": "python3",
      "display_name": "Python 3"
    },
    "language_info": {
      "name": "python"
    }
  },
  "cells": [
    {
      "cell_type": "markdown",
      "source": [
        "전체 문항은 16문항 기준</br>\n",
        "input은 유저가 고른 답변의 문항 번호 list</br>\n",
        "output은 top-k 취미"
      ],
      "metadata": {
        "id": "1SX2LPE4gl4j"
      }
    },
    {
      "cell_type": "code",
      "source": [
        "from keras.datasets import reuters\n",
        "from tensorflow import keras\n",
        "import numpy as np\n",
        "from keras.utils.np_utils import to_categorical\n",
        "from keras import models\n",
        "from keras import layers\n",
        "import matplotlib.pyplot as plt"
      ],
      "metadata": {
        "id": "-ZFueInIAza5"
      },
      "execution_count": null,
      "outputs": []
    },
    {
      "cell_type": "markdown",
      "source": [
        "# 데이터 전처리"
      ],
      "metadata": {
        "id": "WM5O5G-Ykz1M"
      }
    },
    {
      "cell_type": "code",
      "source": [
        "# train data 형식\n",
        "\n",
        "answers = [[1,2,4,1,2,3,3,2,1,2,3,1,1,2,3,2],\n",
        "           [2,3,4,1,2,2,3,1,3,1,3,2,2,1,1,1],\n",
        "           [1,1,4,3,2,1,3,2,3,1,3,2,1,2,2,1],\n",
        "           [2,1,4,1,2,3,3,1,3,2,1,1,1,1,1,1],\n",
        "           [2,3,2,3,1,2,2,1,1,2,3,1,1,1,2,2]]\n",
        "\n",
        "X_labels = np.array([1,2,3,4,0])\n",
        "\n",
        "num2hobby = {1:'취미1',\n",
        "             2:'취미2',\n",
        "             3:'취미3',\n",
        "             4:'취미4',\n",
        "             0:'취미5'}\n",
        "\n",
        "# 예측용 data\n",
        "\n",
        "pred_data = [[1,2,4,1,2,3,2,2,1,2,3,1,1,2,3,2],\n",
        "           [2,3,4,1,2,2,3,1,3,1,3,2,2,1,1,1],\n",
        "           [1,1,4,3,2,1,3,2,3,1,3,2,1,1,2,1],\n",
        "           [2,1,4,1,2,3,3,1,1,2,1,1,1,1,1,1],\n",
        "           [2,3,2,3,1,2,2,1,1,2,2,1,1,1,2,2]]"
      ],
      "metadata": {
        "id": "o22BGYy5HaPP"
      },
      "execution_count": null,
      "outputs": []
    },
    {
      "cell_type": "code",
      "source": [
        "# 문항 개수에 따른 accumulative bias 생성, 리스트의 값은 각 문항별 전체 답변 개수!\n",
        "\n",
        "num_per_question = [2,3,4,3,2,3,3,2,3,2,3,2,2,2,2,2]\n",
        "question_bias = []\n",
        "for idx, num in enumerate(num_per_question):\n",
        "  if idx==0: question_bias.append(0)\n",
        "  else:\n",
        "    question_bias.append(sum(num_per_question[:idx]))"
      ],
      "metadata": {
        "id": "TMugkqvXGHRG"
      },
      "execution_count": null,
      "outputs": []
    },
    {
      "cell_type": "code",
      "source": [
        "# 답안 + accumulative bias\n",
        "\n",
        "answers_with_bias = []\n",
        "for answer in answers:\n",
        "    answer_to_data = [(a+b-1) for a, b in zip(answer, question_bias)]\n",
        "    answers_with_bias.append(answer_to_data)\n",
        "\n",
        "preds_with_bias = []\n",
        "for pred in pred_data:\n",
        "    pred_to_data = [(a+b-1) for a, b in zip(pred, question_bias)]\n",
        "    preds_with_bias.append(pred_to_data)"
      ],
      "metadata": {
        "id": "xF8MYU4kIJ14"
      },
      "execution_count": null,
      "outputs": []
    },
    {
      "cell_type": "markdown",
      "source": [
        "### 각 문항 개수에 따른 accumulative bias를 사용하는 이유\n",
        "\n",
        "답변을 벡터화 시켜서 input으로 주기 때문!</br> \n",
        "accumulative bias를 각 답변에 더해준 후에 vectorize하면, </br>\n",
        "input vector에 positional information도 들어가는 셈</br> \n",
        "=> \"몇번 문항에 몇번 답변을 골랐다\" 라는 정보가 입력되는 꼴"
      ],
      "metadata": {
        "id": "NPJntrM-j1tw"
      }
    },
    {
      "cell_type": "code",
      "source": [
        "def vectorize_sequences(sequences, dimension=40):\n",
        "    results = np.zeros((len(sequences), dimension))\n",
        "    for i, sequence in enumerate(sequences):\n",
        "        sequence = list(sequence)\n",
        "        results[i, sequence] = 1.\n",
        "    return results"
      ],
      "metadata": {
        "id": "5RGbo2bnIgEo"
      },
      "execution_count": null,
      "outputs": []
    },
    {
      "cell_type": "code",
      "source": [
        "# sequential data vectorize\n",
        "\n",
        "X_train = vectorize_sequences(answers_with_bias)\n",
        "X_test = vectorize_sequences(preds_with_bias)"
      ],
      "metadata": {
        "id": "9MSs8zt5Ip0n"
      },
      "execution_count": null,
      "outputs": []
    },
    {
      "cell_type": "code",
      "source": [
        "# one hot encoding\n",
        "\n",
        "one_hot_train_labels = to_categorical(X_labels)"
      ],
      "metadata": {
        "id": "R95tcqh0DVwM"
      },
      "execution_count": null,
      "outputs": []
    },
    {
      "cell_type": "markdown",
      "source": [
        "### one hot encoding을 사용하는 이유\n",
        "\n",
        "각 label들은 연속성이나 순서에 대한 의미가 없기 때문에 one hot vector를 사용하는 것이 학습과 추론에 용이하다!"
      ],
      "metadata": {
        "id": "qosLZAMqlOE1"
      }
    },
    {
      "cell_type": "markdown",
      "source": [
        "# 학습"
      ],
      "metadata": {
        "id": "hf_0Ttihk31M"
      }
    },
    {
      "cell_type": "code",
      "source": [
        "# 새 모델로 시작\n",
        "\n",
        "model = models.Sequential()\n",
        "model.add(layers.Dense(32, activation='relu', input_shape=(40,)))\n",
        "model.add(layers.Dense(16, activation='relu'))\n",
        "model.add(layers.Dense(5, activation='softmax'))\n",
        "\n",
        "model.compile(optimizer='adam',\n",
        "              loss='categorical_crossentropy',\n",
        "              metrics=['accuracy'])"
      ],
      "metadata": {
        "id": "rgUJq0QLDY65"
      },
      "execution_count": null,
      "outputs": []
    },
    {
      "cell_type": "code",
      "source": [
        "# Train\n",
        "\n",
        "history = model.fit(X_train,\n",
        "                    one_hot_train_labels,\n",
        "                    epochs=20,\n",
        "                    batch_size=512\n",
        "                    )"
      ],
      "metadata": {
        "colab": {
          "base_uri": "https://localhost:8080/"
        },
        "id": "h-aYcYQUaJhh",
        "outputId": "e124d495-f187-4ea9-96be-36f270289cda"
      },
      "execution_count": null,
      "outputs": [
        {
          "output_type": "stream",
          "name": "stdout",
          "text": [
            "Epoch 1/20\n",
            "1/1 [==============================] - 0s 10ms/step - loss: 1.1237 - accuracy: 1.0000\n",
            "Epoch 2/20\n",
            "1/1 [==============================] - 0s 8ms/step - loss: 1.1008 - accuracy: 1.0000\n",
            "Epoch 3/20\n",
            "1/1 [==============================] - 0s 6ms/step - loss: 1.0774 - accuracy: 1.0000\n",
            "Epoch 4/20\n",
            "1/1 [==============================] - 0s 9ms/step - loss: 1.0537 - accuracy: 1.0000\n",
            "Epoch 5/20\n",
            "1/1 [==============================] - 0s 7ms/step - loss: 1.0304 - accuracy: 1.0000\n",
            "Epoch 6/20\n",
            "1/1 [==============================] - 0s 12ms/step - loss: 1.0083 - accuracy: 1.0000\n",
            "Epoch 7/20\n",
            "1/1 [==============================] - 0s 7ms/step - loss: 0.9875 - accuracy: 1.0000\n",
            "Epoch 8/20\n",
            "1/1 [==============================] - 0s 9ms/step - loss: 0.9674 - accuracy: 1.0000\n",
            "Epoch 9/20\n",
            "1/1 [==============================] - 0s 8ms/step - loss: 0.9477 - accuracy: 1.0000\n",
            "Epoch 10/20\n",
            "1/1 [==============================] - 0s 23ms/step - loss: 0.9282 - accuracy: 1.0000\n",
            "Epoch 11/20\n",
            "1/1 [==============================] - 0s 8ms/step - loss: 0.9077 - accuracy: 1.0000\n",
            "Epoch 12/20\n",
            "1/1 [==============================] - 0s 11ms/step - loss: 0.8870 - accuracy: 1.0000\n",
            "Epoch 13/20\n",
            "1/1 [==============================] - 0s 8ms/step - loss: 0.8661 - accuracy: 1.0000\n",
            "Epoch 14/20\n",
            "1/1 [==============================] - 0s 13ms/step - loss: 0.8464 - accuracy: 1.0000\n",
            "Epoch 15/20\n",
            "1/1 [==============================] - 0s 9ms/step - loss: 0.8272 - accuracy: 1.0000\n",
            "Epoch 16/20\n",
            "1/1 [==============================] - 0s 8ms/step - loss: 0.8076 - accuracy: 1.0000\n",
            "Epoch 17/20\n",
            "1/1 [==============================] - 0s 12ms/step - loss: 0.7880 - accuracy: 1.0000\n",
            "Epoch 18/20\n",
            "1/1 [==============================] - 0s 10ms/step - loss: 0.7693 - accuracy: 1.0000\n",
            "Epoch 19/20\n",
            "1/1 [==============================] - 0s 8ms/step - loss: 0.7512 - accuracy: 1.0000\n",
            "Epoch 20/20\n",
            "1/1 [==============================] - 0s 7ms/step - loss: 0.7336 - accuracy: 1.0000\n"
          ]
        }
      ]
    },
    {
      "cell_type": "code",
      "source": [
        "# Loss 시각화\n",
        "\n",
        "loss = history.history['loss']\n",
        "\n",
        "epochs = range(1, len(loss) + 1)\n",
        "\n",
        "plt.plot(epochs, loss, 'bo', label='Training loss')\n",
        "plt.title('Training and validation loss')\n",
        "plt.xlabel('Epochs')\n",
        "plt.ylabel('Loss')\n",
        "plt.legend()\n",
        "\n",
        "plt.show()"
      ],
      "metadata": {
        "colab": {
          "base_uri": "https://localhost:8080/",
          "height": 295
        },
        "id": "ELrJhJV6aefH",
        "outputId": "11a08259-54f3-445c-c182-0f861660f473"
      },
      "execution_count": null,
      "outputs": [
        {
          "output_type": "display_data",
          "data": {
            "text/plain": [
              "<Figure size 432x288 with 1 Axes>"
            ],
            "image/png": "[encoded data removed]"
          },
          "metadata": {
            "needs_background": "light"
          }
        }
      ]
    },
    {
      "cell_type": "code",
      "source": [
        "# 결과 예측\n",
        "\n",
        "predictions = model.predict(X_test)"
      ],
      "metadata": {
        "colab": {
          "base_uri": "https://localhost:8080/"
        },
        "id": "l75Cnor4ECNz",
        "outputId": "7de96e28-5ea9-48bb-a4ae-fe10206eccaf"
      },
      "execution_count": null,
      "outputs": [
        {
          "output_type": "stream",
          "name": "stdout",
          "text": [
            "1/1 [==============================] - 0s 58ms/step\n"
          ]
        }
      ]
    },
    {
      "cell_type": "code",
      "source": [
        "# 모델 저장\n",
        "\n",
        "model.save('./model_saved')"
      ],
      "metadata": {
        "id": "-t60GRsRbs6B"
      },
      "execution_count": null,
      "outputs": []
    },
    {
      "cell_type": "markdown",
      "source": [
        "# 추론"
      ],
      "metadata": {
        "id": "U4EOR4Sok7o_"
      }
    },
    {
      "cell_type": "code",
      "source": [
        "# 저장된 모델 로드\n",
        "\n",
        "model = keras.models.load_model('./model_saved')"
      ],
      "metadata": {
        "id": "oHh54-CDcU_m"
      },
      "execution_count": null,
      "outputs": []
    },
    {
      "cell_type": "code",
      "source": [
        "# top-k로 예측값이 가장 큰 인덱스 3개 추출\n",
        "\n",
        "for pred in predictions:\n",
        "  ind = np.argpartition(pred, -3)[-3:]\n",
        "  ind = ind[np.argsort(pred[ind])][::-1]\n",
        "  hobby = []\n",
        "  for i in ind:\n",
        "    hobby.append(num2hobby[i])\n",
        "  print(hobby)"
      ],
      "metadata": {
        "colab": {
          "base_uri": "https://localhost:8080/"
        },
        "id": "ekOUzKIrhXt1",
        "outputId": "b1813fdc-7bd1-4a72-cbb9-8a0fbab5cdde"
      },
      "execution_count": null,
      "outputs": [
        {
          "output_type": "stream",
          "name": "stdout",
          "text": [
            "['취미5', '취미1', '취미2']\n",
            "['취미2', '취미5', '취미4']\n",
            "['취미3', '취미5', '취미2']\n",
            "['취미4', '취미5', '취미2']\n",
            "['취미5', '취미2', '취미4']\n"
          ]
        }
      ]
    }
  ]
}